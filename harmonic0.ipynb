{
 "cells": [
  {
   "cell_type": "code",
   "execution_count": 1,
   "metadata": {},
   "outputs": [],
   "source": [
    "import numpy as np\n",
    "import matplotlib.pyplot as plt"
   ]
  },
  {
   "cell_type": "code",
   "execution_count": 2,
   "metadata": {},
   "outputs": [],
   "source": [
    "def dp(num):\n",
    "    \"\"\"\n",
    "    Helper function that creates number with quadruple precision\n",
    "    \"\"\"\n",
    "    return np.float64(num)"
   ]
  },
  {
   "cell_type": "code",
   "execution_count": 3,
   "metadata": {},
   "outputs": [],
   "source": [
    "def howManyNodes(y):\n",
    "    \"\"\"\n",
    "    Helper function that returns the number\n",
    "    of nodes where y = 0\n",
    "    \"\"\"\n",
    "    numNodes = 0\n",
    "    for i in range(len(y)-1):\n",
    "        if y[i+1] * y[i] < 0: \n",
    "            numNodes += 1\n",
    "\n",
    "    return numNodes"
   ]
  },
  {
   "cell_type": "code",
   "execution_count": 4,
   "metadata": {},
   "outputs": [],
   "source": [
    "def string(x):\n",
    "    \"\"\"\n",
    "    Function that describes potential \n",
    "    under consideration\n",
    "    \"\"\"\n",
    "    return 0.5 * x**2"
   ]
  },
  {
   "cell_type": "code",
   "execution_count": 5,
   "metadata": {},
   "outputs": [],
   "source": [
    "def func(x, energy, deltaX, potential):\n",
    "    \"\"\"\n",
    "    Function that Numerov Scheme have\n",
    "    as an input\n",
    "    \"\"\"\n",
    "    return 1.0 + 2.0 * (energy - potential(x)) * deltaX**2 / 12.0 "
   ]
  },
  {
   "cell_type": "code",
   "execution_count": 6,
   "metadata": {},
   "outputs": [],
   "source": [
    "def numerovScheme(x, y0, y1, func, energy, deltaX, potential):\n",
    "    \"\"\"\n",
    "    Numerov numeric method.\n",
    "    Input:\n",
    "    x  - mesh points x0, x1, ..., xN\n",
    "    y0 - initial condition, value of y[0]\n",
    "    y1 - initial condition, value of y[1]\n",
    "    f  - function where potential is included \n",
    "    Output:\n",
    "    y  - array of y(x0), y(x1), ..., y(xN) according to Numerov method \n",
    "    \"\"\"\n",
    "\n",
    "    # Initializing the ouput array with zeros\n",
    "    y = np.zeros(len(x))\n",
    "    # Initial conditions\n",
    "    y[0] = y0\n",
    "    y[1] = y1\n",
    "    # Creating array of f(x0), f(x1), ..., f(xN)\n",
    "    f = func(x, energy, deltaX, potential)\n",
    "    # Main cycle of numeric scheme\n",
    "    for i in range(2, len(x)):\n",
    "        # Preventing zero division\n",
    "        if (f[i] == 0.0): f[i] = 1E-20 \n",
    "        y[i] = ( (12.0 - 10.0 * f[i-1]) * y[i-1] - f[i-2] * y[i-2] ) / f[i] \n",
    "    return y"
   ]
  },
  {
   "cell_type": "code",
   "execution_count": 7,
   "metadata": {},
   "outputs": [],
   "source": [
    "def bisection(xmax, nmax, numNodes, trialEnergy, tolerance=1E-10, verbose=False):\n",
    "    \"\"\"\n",
    "    Function where shooting method is implimented\n",
    "    \"\"\"\n",
    "    # Create grid x0, x1, ..., xN. Have special function\n",
    "    # in numpy for that purpose. Rember we consider \n",
    "    # only x >= 0, because in our case V(x) = V(-x)\n",
    "    x = np.linspace(0, xmax, nmax+1)\n",
    "\n",
    "    deltaX = float(xmax) / float(nmax)\n",
    "    assert deltaX == x[1] - x[0], 'Something wrong with space interval dx'\n",
    "\n",
    "    if trialEnergy == dp(0.0):\n",
    "        maxEnergy = dp(100) # big enough\n",
    "        minEnergy = dp(0) # energy >= 0\n",
    "        energy = (maxEnergy + minEnergy) / 2.0\n",
    "    else:\n",
    "        # In this case we don't need to appply\n",
    "        # bisection method so we have to do\n",
    "        # only one iteration\n",
    "        maxEnergy = trialEnergy\n",
    "        minEnergy = trialEnergy\n",
    "        energy = trialEnergy\n",
    "\n",
    "    # Print header\n",
    "    print(\"\\tIter\\tEnergy\\t\\tNumNodes\\tDesired NumNodes\\n\")\n",
    "    numIter = 0 \n",
    "    # Some kind of do ... while loop\n",
    "    while True:\n",
    "        # Increasing number of interations\n",
    "        numIter += 1\n",
    "\n",
    "        # Beware the integer division: 1/2 = 0 !\n",
    "        # if nodes is even, there are 2*halfNodes nodes\n",
    "        # if nodes is odd,  there are 2*halfNodes+1 nodes (one is in x=0)\n",
    "        # hnodes is thus the number of nodes in the x>0 semi-axis (x=0 excepted)\n",
    "        halfNodes = numNodes / 2\n",
    "\n",
    "\n",
    "        # Different initial condigion for diffrent even and odd number of nodes\n",
    "        if numNodes % 2 == 0:\n",
    "            y0 = 1.0 # some arbitrary finite number\n",
    "            y1 = ( (12.0 - 10.0 * func(x[0], energy, deltaX, potential=string)) * y0 / \\\n",
    "                   (2.0 * func(x[1], energy, deltaX, potential=string)) )\n",
    "        else:\n",
    "            y0 = 0.0 \n",
    "            y1 = deltaX # small number finite number\n",
    "\n",
    "        # Caclulating y \n",
    "        y = numerovScheme(x, y0, y1, func, energy, deltaX, string)\n",
    "\n",
    "        # Calculating new value of energy that depends on\n",
    "        # current number of nodes\n",
    "        numNodesFromY = howManyNodes(y)\n",
    "\n",
    "        if not verbose:\n",
    "            print('%10d\\t%10.10f\\t%10d\\t%10d' % (numIter, energy, numNodesFromY, halfNodes))\n",
    "\n",
    "        if numNodesFromY > halfNodes:\n",
    "            maxEnergy = energy \n",
    "        else:\n",
    "            minEnergy = energy \n",
    "\n",
    "        energy = (maxEnergy + minEnergy) / 2.0\n",
    "\n",
    "        # Break if trialEnergy != 0\n",
    "        if energy == maxEnergy: break \n",
    "\n",
    "        #  ---- convergence has been achieved (or it wasn't required) -----\n",
    "        #  Note that the wavefunction is not normalized: \n",
    "        #  the problem is the divergence at large |x| \n",
    "        if abs(maxEnergy - energy) < tolerance: break\n",
    "\n",
    "    return (energy, x, y)"
   ]
  },
  {
   "cell_type": "code",
   "execution_count": 19,
   "metadata": {},
   "outputs": [
    {
     "name": "stdout",
     "output_type": "stream",
     "text": [
      "\tIter\tEnergy\t\tNumNodes\tDesired NumNodes\n",
      "\n",
      "         1\t50.0000000000\t        25\t         0\n",
      "         2\t25.0000000000\t        13\t         0\n",
      "         3\t12.5000000000\t         7\t         0\n",
      "         4\t6.2500000000\t         3\t         0\n",
      "         5\t3.1250000000\t         2\t         0\n",
      "         6\t1.5625000000\t         1\t         0\n",
      "         7\t0.7812500000\t         1\t         0\n",
      "         8\t0.3906250000\t         0\t         0\n",
      "         9\t0.5859375000\t         1\t         0\n",
      "        10\t0.4882812500\t         0\t         0\n",
      "        11\t0.5371093750\t         1\t         0\n",
      "        12\t0.5126953125\t         1\t         0\n",
      "        13\t0.5004882812\t         1\t         0\n",
      "        14\t0.4943847656\t         0\t         0\n",
      "        15\t0.4974365234\t         0\t         0\n",
      "        16\t0.4989624023\t         0\t         0\n",
      "        17\t0.4997253418\t         0\t         0\n",
      "        18\t0.5001068115\t         1\t         0\n",
      "        19\t0.4999160767\t         0\t         0\n",
      "        20\t0.5000114441\t         1\t         0\n",
      "        21\t0.4999637604\t         0\t         0\n",
      "        22\t0.4999876022\t         0\t         0\n",
      "        23\t0.4999995232\t         0\t         0\n",
      "        24\t0.5000054836\t         1\t         0\n",
      "        25\t0.5000025034\t         1\t         0\n",
      "        26\t0.5000010133\t         1\t         0\n",
      "        27\t0.5000002682\t         1\t         0\n",
      "        28\t0.4999998957\t         0\t         0\n",
      "        29\t0.5000000820\t         1\t         0\n",
      "        30\t0.4999999888\t         0\t         0\n",
      "        31\t0.5000000354\t         1\t         0\n",
      "        32\t0.5000000121\t         1\t         0\n",
      "        33\t0.5000000005\t         1\t         0\n",
      "        34\t0.4999999946\t         0\t         0\n",
      "        35\t0.4999999976\t         0\t         0\n",
      "        36\t0.4999999990\t         0\t         0\n",
      "        37\t0.4999999997\t         0\t         0\n",
      "        38\t0.5000000001\t         1\t         0\n",
      "        39\t0.4999999999\t         0\t         0\n"
     ]
    }
   ],
   "source": [
    "xmax = 10\n",
    "nmax = 1000\n",
    "numNodes = 0\n",
    "trialEnergy = 0.0\n",
    "(energy, x, y) = bisection(xmax, nmax, numNodes, trialEnergy)"
   ]
  },
  {
   "cell_type": "code",
   "execution_count": 15,
   "metadata": {},
   "outputs": [
    {
     "name": "stdout",
     "output_type": "stream",
     "text": [
      "\tIter\tEnergy\t\tNumNodes\tDesired NumNodes\n",
      "\n",
      "         1\t25.0000000000\t        13\t         0\n"
     ]
    }
   ],
   "source": [
    "(energy, x, y) = bisection(xmax, nmax, numNodes, trialEnergy=25.0)"
   ]
  },
  {
   "cell_type": "code",
   "execution_count": 22,
   "metadata": {},
   "outputs": [
    {
     "data": {
      "image/png": "[encoded data removed]",
      "text/plain": [
       "<Figure size 432x288 with 1 Axes>"
      ]
     },
     "metadata": {
      "needs_background": "light"
     },
     "output_type": "display_data"
    }
   ],
   "source": [
    "plt.plot(x, y)\n",
    "plt.xlim(0, 4)\n",
    "plt.ylim(-2, 2)\n",
    "plt.show()"
   ]
  },
  {
   "cell_type": "code",
   "execution_count": null,
   "metadata": {},
   "outputs": [],
   "source": []
  }
 ],
 "metadata": {
  "kernelspec": {
   "display_name": "Python 3",
   "language": "python",
   "name": "python3"
  },
  "language_info": {
   "codemirror_mode": {
    "name": "ipython",
    "version": 3
   },
   "file_extension": ".py",
   "mimetype": "text/x-python",
   "name": "python",
   "nbconvert_exporter": "python",
   "pygments_lexer": "ipython3",
   "version": "3.7.3"
  }
 },
 "nbformat": 4,
 "nbformat_minor": 2
}
